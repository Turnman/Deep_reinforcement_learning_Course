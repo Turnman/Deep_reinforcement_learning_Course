{
 "cells": [
  {
   "cell_type": "markdown",
   "metadata": {},
   "source": [
    "## Step 0: Import the dependencies 📚\n",
    "First, we need to import the libraries <b>that we'll need to create our agent.</b></br>\n",
    "We use 3 libraries:\n",
    "- `Numpy` for our Qtable\n",
    "- `OpenAI Gym` for our Taxi Environment\n",
    "- `Random` to generate random numbers"
   ]
  },
  {
   "cell_type": "code",
   "execution_count": 1,
   "metadata": {},
   "outputs": [],
   "source": [
    "import numpy as np\n",
    "import gym\n",
    "import random as rnd "
   ]
  },
  {
   "cell_type": "markdown",
   "metadata": {},
   "source": [
    "## Step 1: Create the environment 🎮\n",
    "- Here we'll create the Taxi environment. \n",
    "- OpenAI Gym is a library <b> composed of many environments that we can use to train our agents.</b>"
   ]
  },
  {
   "cell_type": "code",
   "execution_count": 2,
   "metadata": {},
   "outputs": [
    {
     "name": "stdout",
     "output_type": "stream",
     "text": [
      "+---------+\n",
      "|\u001b[34;1mR\u001b[0m: | : :G|\n",
      "| :\u001b[43m \u001b[0m: : : |\n",
      "| : : : : |\n",
      "| | : | : |\n",
      "|\u001b[35mY\u001b[0m| : |B: |\n",
      "+---------+\n",
      "\n"
     ]
    }
   ],
   "source": [
    "# create and reset the Taxi-v2 environment \n",
    "taxi_env = gym.make('Taxi-v2')\n",
    "taxi_env.render()"
   ]
  },
  {
   "cell_type": "markdown",
   "metadata": {},
   "source": [
    "## Step 2: Create the Q-table and initialize it 🗄️\n",
    "- Now, we'll create our Q-table, to know how much rows (states) and columns (actions) we need, we need to calculate the action_size and the state_size\n",
    "- OpenAI Gym provides us a way to do that: `env.action_space.n` and `env.observation_space.n`"
   ]
  },
  {
   "cell_type": "code",
   "execution_count": 3,
   "metadata": {},
   "outputs": [
    {
     "name": "stdout",
     "output_type": "stream",
     "text": [
      "num states: 500; num actions: 6\n",
      "shape of q-table: (500, 6)\n",
      "[[0. 0. 0. 0. 0. 0.]\n",
      " [0. 0. 0. 0. 0. 0.]\n",
      " [0. 0. 0. 0. 0. 0.]\n",
      " ...\n",
      " [0. 0. 0. 0. 0. 0.]\n",
      " [0. 0. 0. 0. 0. 0.]\n",
      " [0. 0. 0. 0. 0. 0.]]\n"
     ]
    }
   ],
   "source": [
    "# create a q-table with all zeros \n",
    "states = taxi_env.observation_space.n\n",
    "actions = taxi_env.action_space.n\n",
    "print('num states: {}; num actions: {}'.format(states, actions))\n",
    "\n",
    "qtable = np.zeros(states * actions).reshape(states, actions)\n",
    "print('shape of q-table: {}'.format(qtable.shape))\n",
    "\n",
    "print(qtable)"
   ]
  },
  {
   "cell_type": "markdown",
   "metadata": {},
   "source": [
    "the possible actions (encoded) to take in the game are: \n",
    "- 0: move one down\n",
    "- 1: move one up\n",
    "- 2: move one right\n",
    "- 3: move one left\n",
    "- 4: pickup passenger - location in blue \n",
    "- 5: dropoff passenger - destination in pink "
   ]
  },
  {
   "cell_type": "markdown",
   "metadata": {},
   "source": [
    "## Step 3: Create the hyperparameters ⚙️\n",
    "Here, we'll specify the hyperparameters."
   ]
  },
  {
   "cell_type": "code",
   "execution_count": 37,
   "metadata": {},
   "outputs": [],
   "source": [
    "learning_rate = 0.1         # alpha\n",
    "discount_rate = 0.9         # gamma\n",
    "max_exploration = 1.0       # max epsilon\n",
    "min_exploration = 0.01      # min epsilon\n",
    "epsilon_decay = 0.01\n",
    "epsilon = max_exploration\n",
    "\n",
    "episodes = 50000            # total episodes to run\n",
    "test_episodes = 100         # epsiodes to test the trained agent\n",
    "steps_per_episode = 1000    # steps the agent takes per episodes "
   ]
  },
  {
   "cell_type": "markdown",
   "metadata": {},
   "source": [
    "## Step 4: The Q learning algorithm 🧠\n",
    "- Now we implement the Q learning algorithm:\n",
    "<img src=\"qtable_algo.png\" alt=\"Q algo\"/>"
   ]
  },
  {
   "cell_type": "code",
   "execution_count": 38,
   "metadata": {},
   "outputs": [
    {
     "name": "stdout",
     "output_type": "stream",
     "text": [
      "[[ 0.          0.          0.          0.          0.          0.        ]\n",
      " [ 8.12911143  6.93392846  6.75149188  4.84122725 14.44444444  0.47761513]\n",
      " [ 6.77708775  9.36985359  4.22359705  5.64308228 16.66666667  3.1190741 ]\n",
      " ...\n",
      " [-1.49144559 -1.31895383 -1.56861604  2.8108381  -4.56983725 -2.93619   ]\n",
      " [-2.40242294 -2.93033622 -2.54044449  3.20761683 -3.63048845 -3.        ]\n",
      " [-0.1119009   0.22046414  1.36808042 16.8606016  -1.75191169 -1.        ]]\n"
     ]
    }
   ],
   "source": [
    "# repeat learning until episodes over \n",
    "for episode in range(episodes):\n",
    "    state = taxi_env.reset()\n",
    "    done = False\n",
    "    \n",
    "    for i in range(steps_per_episode):\n",
    "        if done: \n",
    "            break \n",
    "        else:\n",
    "            # choose action \n",
    "            exploration_exploitation = rnd.random()\n",
    "            if np.sum(qtable[state, :]) == 0 or exploration_exploitation < epsilon:\n",
    "                # exploration - choose random action\n",
    "                action = taxi_env.action_space.sample()\n",
    "            else:\n",
    "                # exploitation - choose best action \n",
    "                action = np.argmax(qtable[state, : ])\n",
    "            \n",
    "            # make the step \n",
    "            new_state, reward, done, _ = taxi_env.step(action)\n",
    "            \n",
    "            # update q values \n",
    "            current_qvalue = qtable[state, action]\n",
    "            # print('current q-value {}'.format(current_qvalue))\n",
    "            qtable[state, action] = current_qvalue + learning_rate * \\\n",
    "                                    (reward + discount_rate * (np.max(qtable[new_state, :]) - current_qvalue))\n",
    "            \n",
    "            epsilon -= epsilon_decay\n",
    "            state = new_state\n",
    "    \n",
    "    # print qtable after every episode \n",
    "    # print('Q-table after episode {}\\n{}'.format(episode, qtable))\n",
    "    \n",
    "    # reducing epsilon per episode to have decreasing exploration and more exploitation \n",
    "    epsilon = min_exploration + (max_exploration-min_exploration)*np.exp(-epsilon_decay*episode)\n",
    "    \n",
    "# print final qtable\n",
    "print(qtable)"
   ]
  },
  {
   "cell_type": "markdown",
   "metadata": {},
   "source": [
    "## Step 5: Use our Q-table to play Taxi ! 🚖\n",
    "- After 50 000 episodes, our Q-table can be used as a \"cheatsheet\" to play Taxi.\n",
    "- By running this cell you can see our agent playing Taxi."
   ]
  },
  {
   "cell_type": "code",
   "execution_count": 39,
   "metadata": {},
   "outputs": [
    {
     "name": "stdout",
     "output_type": "stream",
     "text": [
      "average reward per round: 8.69\n"
     ]
    }
   ],
   "source": [
    "taxi_env.reset()\n",
    "rewards = np.zeros(test_episodes)\n",
    "\n",
    "for run in range(test_episodes):\n",
    "    reward_acc = 0\n",
    "    state = taxi_env.reset()\n",
    "    done = False\n",
    "    \n",
    "    # run until done \n",
    "    while not done: \n",
    "        # taxi_env.render()\n",
    "        action = np.argmax(qtable[state, :])\n",
    "        new_state, reward, done, _ = taxi_env.step(action)\n",
    "        reward_acc += reward\n",
    "        \n",
    "        state = new_state\n",
    "    # print('rewards of round {}: {}'.format(run, reward_acc))\n",
    "    rewards[run] = reward_acc\n",
    "\n",
    "taxi_env.close()\n",
    "\n",
    "avg_reward = np.sum(rewards)/test_episodes\n",
    "print('average reward per round: {}'.format(avg_reward))"
   ]
  }
 ],
 "metadata": {
  "kernelspec": {
   "display_name": "Python 3",
   "language": "python",
   "name": "python3"
  },
  "language_info": {
   "codemirror_mode": {
    "name": "ipython",
    "version": 3
   },
   "file_extension": ".py",
   "mimetype": "text/x-python",
   "name": "python",
   "nbconvert_exporter": "python",
   "pygments_lexer": "ipython3",
   "version": "3.6.5"
  }
 },
 "nbformat": 4,
 "nbformat_minor": 2
}
